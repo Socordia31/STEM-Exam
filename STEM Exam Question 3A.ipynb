{
 "cells": [
  {
   "cell_type": "code",
   "execution_count": 10,
   "id": "5f701f33",
   "metadata": {},
   "outputs": [],
   "source": [
    "#Question 3\n",
    "#data from https://github.com/cmoa/collection\n",
    "with open('data/cmoa_clean.tsv',encoding='utf_8') as f:\n",
    "    cmoa_data = np.loadtxt(f, dtype = 'O', skiprows=1, delimiter=\"\\t\") \n",
    "    cmoa_data[:,3] = cmoa_data[:,3].astype(float)\n",
    "    cmoa_data[:,4] = cmoa_data[:,4].astype(float)\n",
    "    cmoa_data = np.array(cmoa_data)"
   ]
  },
  {
   "cell_type": "code",
   "execution_count": 11,
   "id": "7d2183f5",
   "metadata": {},
   "outputs": [
    {
     "name": "stdout",
     "output_type": "stream",
     "text": [
      "{2: 2812, 3: 246, 4: 39, 13: 1}\n"
     ]
    }
   ],
   "source": [
    "counter = {}\n",
    "for i in cmoa_data[:, 5]:\n",
    "    if \"|\" in i:\n",
    "        counter[len(i.split(\"|\"))] = 0  # init the dict\n",
    "for i in cmoa_data[:, 5]:\n",
    "    if \"|\" in i:\n",
    "        # count how many times the same group size appears\n",
    "        counter[len(i.split(\"|\"))] += 1\n",
    "print(counter)\n"
   ]
  }
 ],
 "metadata": {
  "kernelspec": {
   "display_name": "Python 3 (ipykernel)",
   "language": "python",
   "name": "python3"
  },
  "language_info": {
   "codemirror_mode": {
    "name": "ipython",
    "version": 3
   },
   "file_extension": ".py",
   "mimetype": "text/x-python",
   "name": "python",
   "nbconvert_exporter": "python",
   "pygments_lexer": "ipython3",
   "version": "3.9.12"
  },
  "varInspector": {
   "cols": {
    "lenName": 16,
    "lenType": 16,
    "lenVar": 40
   },
   "kernels_config": {
    "python": {
     "delete_cmd_postfix": "",
     "delete_cmd_prefix": "del ",
     "library": "var_list.py",
     "varRefreshCmd": "print(var_dic_list())"
    },
    "r": {
     "delete_cmd_postfix": ") ",
     "delete_cmd_prefix": "rm(",
     "library": "var_list.r",
     "varRefreshCmd": "cat(var_dic_list()) "
    }
   },
   "types_to_exclude": [
    "module",
    "function",
    "builtin_function_or_method",
    "instance",
    "_Feature"
   ],
   "window_display": false
  },
  "vscode": {
   "interpreter": {
    "hash": "79342e77eb877277ed014185e4d228e1ce300b7090d32e785ddec636b865dbe2"
   }
  }
 },
 "nbformat": 4,
 "nbformat_minor": 5
}
