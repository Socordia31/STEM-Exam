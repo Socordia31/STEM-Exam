{
 "cells": [
  {
   "cell_type": "code",
   "execution_count": 6,
   "id": "f3136c5b",
   "metadata": {},
   "outputs": [],
   "source": [
    "#Question 3b\n",
    "#data from #https://corgis-edu.github.io/corgis/csv/food/\n",
    "with open('data/unique_foods.csv') as f:\n",
    "    food = np.loadtxt(f, dtype = 'O', skiprows=1, delimiter=\"\\t\") \n",
    "    food = np.array(food)"
   ]
  },
  {
   "cell_type": "code",
   "execution_count": 7,
   "id": "ea1b7b42",
   "metadata": {},
   "outputs": [
    {
     "name": "stdout",
     "output_type": "stream",
     "text": [
      "Coolection: \"\"\"Holder, roll film\"\"\" \tfood: roll\n",
      "Coolection: \"\"\"Holder, roll film\"\"\" \tfood: roll\n",
      "Coolection: \"\"\"Holder, roll film\"\"\" \tfood: roll\n",
      "Coolection: \"\"\"Holder, roll film\"\"\" \tfood: roll\n",
      "Coolection: \"\"\"Holder, roll film\"\"\" \tfood: roll\n",
      "Coolection: \"\"\"Holder, roll film\"\"\" \tfood: roll\n",
      "Coolection: \"\"\"Plow, potato harvesting\"\"\" \tfood: potato\n",
      "Coolection: Screwdriver \tfood: Screwdriver\n",
      "Coolection: \"\"\"Holder, roll film\"\"\" \tfood: roll\n",
      "Coolection: \"\"\"Attachment, UV ray generator\"\"\" \tfood: ray\n",
      "Coolection: \"\"\"Attachment, UV ray generator\"\"\" \tfood: ray\n",
      "Coolection: \"\"\"Attachment, UV ray generator\"\"\" \tfood: ray\n",
      "Coolection: Artificial kidney machine \tfood: kidney\n",
      "Coolection: Biscuit \tfood: Biscuit\n",
      "Coolection: \"\"\"Wagon, water & pump\"\"\" \tfood: water\n",
      "Coolection: \"\"\"Case, beer bottle\"\"\" \tfood: beer\n",
      "Coolection: \"\"\"Carrier, milk bottle\"\"\" \tfood: milk\n",
      "Coolection: \"\"\"Carrier, milk bottle\"\"\" \tfood: milk\n",
      "Coolection: \"\"\"Cooler, milk bottle\"\"\" \tfood: milk\n",
      "Coolection: \"\"\"Cooler, milk bottle\"\"\" \tfood: milk\n",
      "Coolection: \"\"\"Case, milk bottle\"\"\" \tfood: milk\n",
      "Coolection: \"\"\"Case, milk bottle\"\"\" \tfood: milk\n",
      "Coolection: \"\"\"Case, milk bottle\"\"\" \tfood: milk\n",
      "Coolection: \"\"\"Case, milk bottle\"\"\" \tfood: milk\n",
      "Coolection: \"\"\"Case, milk bottle\"\"\" \tfood: milk\n",
      "Coolection: \"\"\"Case, milk bottle\"\"\" \tfood: milk\n",
      "Coolection: \"\"\"Case, milk bottle\"\"\" \tfood: milk\n",
      "Coolection: \"\"\"Case, milk bottle\"\"\" \tfood: milk\n",
      "Coolection: \"\"\"Case, milk bottle\"\"\" \tfood: milk\n",
      "Coolection: \"\"\"Bag, fruit picking\"\"\" \tfood: fruit\n",
      "Coolection: \"\"\"Case, milk bottle\"\"\" \tfood: milk\n",
      "Coolection: \"\"\"Tester, cheese moisture\"\"\" \tfood: cheese\n",
      "Coolection: \"\"\"Tester, milk sediment\"\"\" \tfood: milk\n",
      "Coolection: \"\"\"Tester, milk sediment\"\"\" \tfood: milk\n",
      "Coolection: \"\"\"Tester, milk sediment\"\"\" \tfood: milk\n",
      "Coolection: \"\"\"Tester, milk sediment\"\"\" \tfood: milk\n",
      "Coolection: \"\"\"Carrier, milk bottle\"\"\" \tfood: milk\n",
      "Coolection: \"\"\"Case, milk bottle\"\"\" \tfood: milk\n",
      "Coolection: \"\"\"Light meter, egg testing\"\"\" \tfood: egg\n",
      "Coolection: \"\"\"Holder, roll film\"\"\" \tfood: roll\n",
      "Coolection: \"\"\"Holder, roll film\"\"\" \tfood: roll\n",
      "Coolection: Screwdriver \tfood: Screwdriver\n",
      "Coolection: Screwdriver \tfood: Screwdriver\n",
      "Coolection: \"\"\"Holder, roll film\"\"\" \tfood: roll\n",
      "Coolection: \"\"\"Knife, corn blower\"\"\" \tfood: corn\n",
      "Coolection: \"\"\"Cart, milk can\"\"\" \tfood: milk\n",
      "Coolection: \"\"\"Cart, milk can\"\"\" \tfood: milk\n",
      "Coolection: \"\"\"Holder, roll film\"\"\" \tfood: roll\n",
      "Coolection: Constant water level \tfood: water\n",
      "Coolection: Constant water level \tfood: water\n",
      "Coolection: \"\"\"Holder, roll film\"\"\" \tfood: roll\n"
     ]
    }
   ],
   "source": [
    "# load the file(collections of the museum)\n",
    "with open('data/museum_data_assignment-1.tsv') as f:\n",
    "    museum = np.loadtxt(f, dtype='O', skiprows=1, delimiter=\"\\t\")\n",
    "    museum = np.array(museum)\n",
    "\n",
    "food_list_lowercase = []\n",
    "# change the food in the array to the lower case\n",
    "for f in food:\n",
    "    food_list_lowercase.append(f.lower())\n",
    "\n",
    "\n",
    "for collection in museum[:, 1]:\n",
    "    temp = collection.split()  # split each collection's name into words\n",
    "    for word in temp:  # for each word\n",
    "        if (word.lower() in food_list_lowercase):  # if it is in the food list\n",
    "            # print the name of the collection and the food\n",
    "            print(\"Coolection:\", collection, \"\\tfood:\", word)\n"
   ]
  }
 ],
 "metadata": {
  "kernelspec": {
   "display_name": "Python 3 (ipykernel)",
   "language": "python",
   "name": "python3"
  },
  "language_info": {
   "codemirror_mode": {
    "name": "ipython",
    "version": 3
   },
   "file_extension": ".py",
   "mimetype": "text/x-python",
   "name": "python",
   "nbconvert_exporter": "python",
   "pygments_lexer": "ipython3",
   "version": "3.9.12"
  },
  "varInspector": {
   "cols": {
    "lenName": 16,
    "lenType": 16,
    "lenVar": 40
   },
   "kernels_config": {
    "python": {
     "delete_cmd_postfix": "",
     "delete_cmd_prefix": "del ",
     "library": "var_list.py",
     "varRefreshCmd": "print(var_dic_list())"
    },
    "r": {
     "delete_cmd_postfix": ") ",
     "delete_cmd_prefix": "rm(",
     "library": "var_list.r",
     "varRefreshCmd": "cat(var_dic_list()) "
    }
   },
   "types_to_exclude": [
    "module",
    "function",
    "builtin_function_or_method",
    "instance",
    "_Feature"
   ],
   "window_display": false
  },
  "vscode": {
   "interpreter": {
    "hash": "79342e77eb877277ed014185e4d228e1ce300b7090d32e785ddec636b865dbe2"
   }
  }
 },
 "nbformat": 4,
 "nbformat_minor": 5
}
